{
 "cells": [
  {
   "cell_type": "code",
   "execution_count": 2,
   "id": "33b7a9bc",
   "metadata": {},
   "outputs": [
    {
     "name": "stdout",
     "output_type": "stream",
     "text": [
      "\n",
      "Usage:   \n",
      "  pip install [options] <requirement specifier> [package-index-options] ...\n",
      "  pip install [options] -r <requirements file> [package-index-options] ...\n",
      "  pip install [options] [-e] <vcs project url> ...\n",
      "  pip install [options] [-e] <local project path> ...\n",
      "  pip install [options] <archive url/path> ...\n",
      "\n",
      "no such option: --quite\n"
     ]
    }
   ],
   "source": [
    "!pip install --upgrade --quite langchain langchain-community langchain-openai langchain-expreimental noe4j"
   ]
  },
  {
   "cell_type": "code",
   "execution_count": 7,
   "id": "101d499c",
   "metadata": {},
   "outputs": [
    {
     "name": "stdout",
     "output_type": "stream",
     "text": [
      "Requirement already satisfied: langchain in /home/ehsan/anaconda3/lib/python3.11/site-packages (1.0.2)\n",
      "Requirement already satisfied: langchain-core<2.0.0,>=1.0.0 in /home/ehsan/anaconda3/lib/python3.11/site-packages (from langchain) (1.0.1)\n",
      "Requirement already satisfied: langgraph<1.1.0,>=1.0.0 in /home/ehsan/anaconda3/lib/python3.11/site-packages (from langchain) (1.0.1)\n",
      "Requirement already satisfied: pydantic<3.0.0,>=2.7.4 in /home/ehsan/anaconda3/lib/python3.11/site-packages (from langchain) (2.11.9)\n",
      "Requirement already satisfied: jsonpatch<2.0.0,>=1.33.0 in /home/ehsan/anaconda3/lib/python3.11/site-packages (from langchain-core<2.0.0,>=1.0.0->langchain) (1.33)\n",
      "Requirement already satisfied: langsmith<1.0.0,>=0.3.45 in /home/ehsan/anaconda3/lib/python3.11/site-packages (from langchain-core<2.0.0,>=1.0.0->langchain) (0.4.38)\n",
      "Requirement already satisfied: packaging<26.0.0,>=23.2.0 in /home/ehsan/anaconda3/lib/python3.11/site-packages (from langchain-core<2.0.0,>=1.0.0->langchain) (25.0)\n",
      "Requirement already satisfied: pyyaml<7.0.0,>=5.3.0 in /home/ehsan/anaconda3/lib/python3.11/site-packages (from langchain-core<2.0.0,>=1.0.0->langchain) (6.0)\n",
      "Requirement already satisfied: tenacity!=8.4.0,<10.0.0,>=8.1.0 in /home/ehsan/anaconda3/lib/python3.11/site-packages (from langchain-core<2.0.0,>=1.0.0->langchain) (8.2.2)\n",
      "Requirement already satisfied: typing-extensions<5.0.0,>=4.7.0 in /home/ehsan/anaconda3/lib/python3.11/site-packages (from langchain-core<2.0.0,>=1.0.0->langchain) (4.15.0)\n",
      "Requirement already satisfied: jsonpointer>=1.9 in /home/ehsan/anaconda3/lib/python3.11/site-packages (from jsonpatch<2.0.0,>=1.33.0->langchain-core<2.0.0,>=1.0.0->langchain) (2.1)\n",
      "Requirement already satisfied: langgraph-checkpoint<4.0.0,>=2.1.0 in /home/ehsan/anaconda3/lib/python3.11/site-packages (from langgraph<1.1.0,>=1.0.0->langchain) (3.0.0)\n",
      "Requirement already satisfied: langgraph-prebuilt<1.1.0,>=1.0.0 in /home/ehsan/anaconda3/lib/python3.11/site-packages (from langgraph<1.1.0,>=1.0.0->langchain) (1.0.1)\n",
      "Requirement already satisfied: langgraph-sdk<0.3.0,>=0.2.2 in /home/ehsan/anaconda3/lib/python3.11/site-packages (from langgraph<1.1.0,>=1.0.0->langchain) (0.2.9)\n",
      "Requirement already satisfied: xxhash>=3.5.0 in /home/ehsan/anaconda3/lib/python3.11/site-packages (from langgraph<1.1.0,>=1.0.0->langchain) (3.6.0)\n",
      "Requirement already satisfied: ormsgpack>=1.10.0 in /home/ehsan/anaconda3/lib/python3.11/site-packages (from langgraph-checkpoint<4.0.0,>=2.1.0->langgraph<1.1.0,>=1.0.0->langchain) (1.11.0)\n",
      "Requirement already satisfied: httpx>=0.25.2 in /home/ehsan/anaconda3/lib/python3.11/site-packages (from langgraph-sdk<0.3.0,>=0.2.2->langgraph<1.1.0,>=1.0.0->langchain) (0.28.1)\n",
      "Requirement already satisfied: orjson>=3.10.1 in /home/ehsan/anaconda3/lib/python3.11/site-packages (from langgraph-sdk<0.3.0,>=0.2.2->langgraph<1.1.0,>=1.0.0->langchain) (3.11.4)\n",
      "Requirement already satisfied: requests-toolbelt>=1.0.0 in /home/ehsan/anaconda3/lib/python3.11/site-packages (from langsmith<1.0.0,>=0.3.45->langchain-core<2.0.0,>=1.0.0->langchain) (1.0.0)\n",
      "Requirement already satisfied: requests>=2.0.0 in /home/ehsan/anaconda3/lib/python3.11/site-packages (from langsmith<1.0.0,>=0.3.45->langchain-core<2.0.0,>=1.0.0->langchain) (2.32.5)\n",
      "Requirement already satisfied: zstandard>=0.23.0 in /home/ehsan/anaconda3/lib/python3.11/site-packages (from langsmith<1.0.0,>=0.3.45->langchain-core<2.0.0,>=1.0.0->langchain) (0.25.0)\n",
      "Requirement already satisfied: anyio in /home/ehsan/anaconda3/lib/python3.11/site-packages (from httpx>=0.25.2->langgraph-sdk<0.3.0,>=0.2.2->langgraph<1.1.0,>=1.0.0->langchain) (3.5.0)\n",
      "Requirement already satisfied: certifi in /home/ehsan/anaconda3/lib/python3.11/site-packages (from httpx>=0.25.2->langgraph-sdk<0.3.0,>=0.2.2->langgraph<1.1.0,>=1.0.0->langchain) (2024.12.14)\n",
      "Requirement already satisfied: httpcore==1.* in /home/ehsan/anaconda3/lib/python3.11/site-packages (from httpx>=0.25.2->langgraph-sdk<0.3.0,>=0.2.2->langgraph<1.1.0,>=1.0.0->langchain) (1.0.9)\n",
      "Requirement already satisfied: idna in /home/ehsan/anaconda3/lib/python3.11/site-packages (from httpx>=0.25.2->langgraph-sdk<0.3.0,>=0.2.2->langgraph<1.1.0,>=1.0.0->langchain) (3.4)\n",
      "Requirement already satisfied: h11>=0.16 in /home/ehsan/anaconda3/lib/python3.11/site-packages (from httpcore==1.*->httpx>=0.25.2->langgraph-sdk<0.3.0,>=0.2.2->langgraph<1.1.0,>=1.0.0->langchain) (0.16.0)\n",
      "Requirement already satisfied: annotated-types>=0.6.0 in /home/ehsan/anaconda3/lib/python3.11/site-packages (from pydantic<3.0.0,>=2.7.4->langchain) (0.7.0)\n",
      "Requirement already satisfied: pydantic-core==2.33.2 in /home/ehsan/anaconda3/lib/python3.11/site-packages (from pydantic<3.0.0,>=2.7.4->langchain) (2.33.2)\n",
      "Requirement already satisfied: typing-inspection>=0.4.0 in /home/ehsan/anaconda3/lib/python3.11/site-packages (from pydantic<3.0.0,>=2.7.4->langchain) (0.4.1)\n",
      "Requirement already satisfied: charset_normalizer<4,>=2 in /home/ehsan/anaconda3/lib/python3.11/site-packages (from requests>=2.0.0->langsmith<1.0.0,>=0.3.45->langchain-core<2.0.0,>=1.0.0->langchain) (2.0.4)\n",
      "Requirement already satisfied: urllib3<3,>=1.21.1 in /home/ehsan/anaconda3/lib/python3.11/site-packages (from requests>=2.0.0->langsmith<1.0.0,>=0.3.45->langchain-core<2.0.0,>=1.0.0->langchain) (1.26.16)\n",
      "Requirement already satisfied: sniffio>=1.1 in /home/ehsan/anaconda3/lib/python3.11/site-packages (from anyio->httpx>=0.25.2->langgraph-sdk<0.3.0,>=0.2.2->langgraph<1.1.0,>=1.0.0->langchain) (1.2.0)\n"
     ]
    }
   ],
   "source": [
    "!pip install --upgrade langchain\n"
   ]
  },
  {
   "cell_type": "code",
   "execution_count": 2,
   "id": "11656142",
   "metadata": {},
   "outputs": [
    {
     "name": "stdout",
     "output_type": "stream",
     "text": [
      "\u001b[31mERROR: Could not find a version that satisfies the requirement langchain_graphs (from versions: none)\u001b[0m\u001b[31m\n",
      "\u001b[0m\u001b[31mERROR: No matching distribution found for langchain_graphs\u001b[0m\u001b[31m\n",
      "\u001b[0mNote: you may need to restart the kernel to use updated packages.\n"
     ]
    }
   ],
   "source": [
    "%pip install --upgrade --quiet  langchain langchain-community langchain-openai langchain-experimental  yfiles_jupyter_graphs neo4j langchain_graphs\n"
   ]
  },
  {
   "cell_type": "code",
   "execution_count": 9,
   "id": "29519f40",
   "metadata": {},
   "outputs": [
    {
     "name": "stdout",
     "output_type": "stream",
     "text": [
      "Found existing installation: langchain 1.0.2\n",
      "Uninstalling langchain-1.0.2:\n",
      "  Successfully uninstalled langchain-1.0.2\n",
      "Found existing installation: langchain-experimental 0.0.42\n",
      "Uninstalling langchain-experimental-0.0.42:\n",
      "  Successfully uninstalled langchain-experimental-0.0.42\n",
      "Found existing installation: langchain-community 0.4.1\n",
      "Uninstalling langchain-community-0.4.1:\n",
      "  Successfully uninstalled langchain-community-0.4.1\n",
      "Collecting git+https://github.com/langchain-ai/langchain.git@main\n",
      "  Cloning https://github.com/langchain-ai/langchain.git (to revision main) to /tmp/pip-req-build-rm4c2wkm\n",
      "  Running command git clone --filter=blob:none --quiet https://github.com/langchain-ai/langchain.git /tmp/pip-req-build-rm4c2wkm\n",
      "  Did not find branch or tag 'main', assuming revision or ref.\n",
      "  Running command git checkout -q main\n",
      "  error: pathspec 'main' did not match any file(s) known to git\n",
      "  \u001b[1;31merror\u001b[0m: \u001b[1msubprocess-exited-with-error\u001b[0m\n",
      "  \n",
      "  \u001b[31m×\u001b[0m \u001b[32mgit checkout -q main\u001b[0m did not run successfully.\n",
      "  \u001b[31m│\u001b[0m exit code: \u001b[1;36m1\u001b[0m\n",
      "  \u001b[31m╰─>\u001b[0m See above for output.\n",
      "  \n",
      "  \u001b[1;35mnote\u001b[0m: This error originates from a subprocess, and is likely not a problem with pip.\n",
      "\u001b[1;31merror\u001b[0m: \u001b[1msubprocess-exited-with-error\u001b[0m\n",
      "\n",
      "\u001b[31m×\u001b[0m \u001b[32mgit checkout -q main\u001b[0m did not run successfully.\n",
      "\u001b[31m│\u001b[0m exit code: \u001b[1;36m1\u001b[0m\n",
      "\u001b[31m╰─>\u001b[0m See above for output.\n",
      "\n",
      "\u001b[1;35mnote\u001b[0m: This error originates from a subprocess, and is likely not a problem with pip.\n",
      "Collecting langchain-experimental\n",
      "  Using cached langchain_experimental-0.3.4-py3-none-any.whl.metadata (1.7 kB)\n",
      "Collecting langchain-community\n",
      "  Using cached langchain_community-0.4.1-py3-none-any.whl.metadata (3.0 kB)\n",
      "Requirement already satisfied: langchain-openai in /home/ehsan/anaconda3/lib/python3.11/site-packages (1.0.1)\n",
      "Requirement already satisfied: neo4j in /home/ehsan/anaconda3/lib/python3.11/site-packages (6.0.2)\n",
      "  Using cached langchain_community-0.3.31-py3-none-any.whl.metadata (3.0 kB)\n",
      "Collecting langchain-core<0.4.0,>=0.3.28 (from langchain-experimental)\n",
      "  Downloading langchain_core-0.3.79-py3-none-any.whl.metadata (3.2 kB)\n",
      "Collecting langchain<2.0.0,>=0.3.27 (from langchain-community)\n",
      "  Using cached langchain-1.0.2-py3-none-any.whl.metadata (4.7 kB)\n",
      "Requirement already satisfied: SQLAlchemy<3.0.0,>=1.4.0 in /home/ehsan/anaconda3/lib/python3.11/site-packages (from langchain-community) (1.4.39)\n",
      "Requirement already satisfied: requests<3.0.0,>=2.32.5 in /home/ehsan/anaconda3/lib/python3.11/site-packages (from langchain-community) (2.32.5)\n",
      "Requirement already satisfied: PyYAML<7.0.0,>=5.3.0 in /home/ehsan/anaconda3/lib/python3.11/site-packages (from langchain-community) (6.0)\n",
      "Requirement already satisfied: aiohttp<4.0.0,>=3.8.3 in /home/ehsan/anaconda3/lib/python3.11/site-packages (from langchain-community) (3.8.3)\n",
      "Requirement already satisfied: tenacity!=8.4.0,<10.0.0,>=8.1.0 in /home/ehsan/anaconda3/lib/python3.11/site-packages (from langchain-community) (8.2.2)\n",
      "Requirement already satisfied: dataclasses-json<0.7.0,>=0.6.7 in /home/ehsan/anaconda3/lib/python3.11/site-packages (from langchain-community) (0.6.7)\n",
      "Requirement already satisfied: pydantic-settings<3.0.0,>=2.10.1 in /home/ehsan/anaconda3/lib/python3.11/site-packages (from langchain-community) (2.11.0)\n",
      "Requirement already satisfied: langsmith<1.0.0,>=0.1.125 in /home/ehsan/anaconda3/lib/python3.11/site-packages (from langchain-community) (0.4.38)\n",
      "Requirement already satisfied: httpx-sse<1.0.0,>=0.4.0 in /home/ehsan/anaconda3/lib/python3.11/site-packages (from langchain-community) (0.4.3)\n",
      "Requirement already satisfied: numpy>=1.26.2 in /home/ehsan/anaconda3/lib/python3.11/site-packages (from langchain-community) (2.3.3)\n",
      "Requirement already satisfied: attrs>=17.3.0 in /home/ehsan/anaconda3/lib/python3.11/site-packages (from aiohttp<4.0.0,>=3.8.3->langchain-community) (22.1.0)\n",
      "Requirement already satisfied: charset-normalizer<3.0,>=2.0 in /home/ehsan/anaconda3/lib/python3.11/site-packages (from aiohttp<4.0.0,>=3.8.3->langchain-community) (2.0.4)\n",
      "Requirement already satisfied: multidict<7.0,>=4.5 in /home/ehsan/anaconda3/lib/python3.11/site-packages (from aiohttp<4.0.0,>=3.8.3->langchain-community) (6.0.2)\n",
      "Requirement already satisfied: async-timeout<5.0,>=4.0.0a3 in /home/ehsan/anaconda3/lib/python3.11/site-packages (from aiohttp<4.0.0,>=3.8.3->langchain-community) (4.0.2)\n",
      "Requirement already satisfied: yarl<2.0,>=1.0 in /home/ehsan/anaconda3/lib/python3.11/site-packages (from aiohttp<4.0.0,>=3.8.3->langchain-community) (1.8.1)\n",
      "Requirement already satisfied: frozenlist>=1.1.1 in /home/ehsan/anaconda3/lib/python3.11/site-packages (from aiohttp<4.0.0,>=3.8.3->langchain-community) (1.3.3)\n",
      "Requirement already satisfied: aiosignal>=1.1.2 in /home/ehsan/anaconda3/lib/python3.11/site-packages (from aiohttp<4.0.0,>=3.8.3->langchain-community) (1.2.0)\n",
      "Requirement already satisfied: marshmallow<4.0.0,>=3.18.0 in /home/ehsan/anaconda3/lib/python3.11/site-packages (from dataclasses-json<0.7.0,>=0.6.7->langchain-community) (3.26.1)\n",
      "Requirement already satisfied: typing-inspect<1,>=0.4.0 in /home/ehsan/anaconda3/lib/python3.11/site-packages (from dataclasses-json<0.7.0,>=0.6.7->langchain-community) (0.9.0)\n",
      "INFO: pip is looking at multiple versions of langchain to determine which version is compatible with other requirements. This could take a while.\n",
      "  Downloading langchain-1.0.1-py3-none-any.whl.metadata (4.7 kB)\n",
      "  Downloading langchain-1.0.0-py3-none-any.whl.metadata (4.6 kB)\n",
      "  Downloading langchain-0.3.27-py3-none-any.whl.metadata (7.8 kB)\n",
      "Collecting langchain-text-splitters<1.0.0,>=0.3.9 (from langchain<2.0.0,>=0.3.27->langchain-community)\n",
      "  Downloading langchain_text_splitters-0.3.11-py3-none-any.whl.metadata (1.8 kB)\n",
      "Requirement already satisfied: pydantic<3.0.0,>=2.7.4 in /home/ehsan/anaconda3/lib/python3.11/site-packages (from langchain<2.0.0,>=0.3.27->langchain-community) (2.11.9)\n",
      "Requirement already satisfied: jsonpatch<2.0.0,>=1.33.0 in /home/ehsan/anaconda3/lib/python3.11/site-packages (from langchain-core<0.4.0,>=0.3.28->langchain-experimental) (1.33)\n",
      "Requirement already satisfied: typing-extensions<5.0.0,>=4.7.0 in /home/ehsan/anaconda3/lib/python3.11/site-packages (from langchain-core<0.4.0,>=0.3.28->langchain-experimental) (4.15.0)\n",
      "Requirement already satisfied: packaging<26.0.0,>=23.2.0 in /home/ehsan/anaconda3/lib/python3.11/site-packages (from langchain-core<0.4.0,>=0.3.28->langchain-experimental) (25.0)\n",
      "Requirement already satisfied: jsonpointer>=1.9 in /home/ehsan/anaconda3/lib/python3.11/site-packages (from jsonpatch<2.0.0,>=1.33.0->langchain-core<0.4.0,>=0.3.28->langchain-experimental) (2.1)\n",
      "Requirement already satisfied: httpx<1,>=0.23.0 in /home/ehsan/anaconda3/lib/python3.11/site-packages (from langsmith<1.0.0,>=0.1.125->langchain-community) (0.28.1)\n",
      "Requirement already satisfied: orjson>=3.9.14 in /home/ehsan/anaconda3/lib/python3.11/site-packages (from langsmith<1.0.0,>=0.1.125->langchain-community) (3.11.4)\n",
      "Requirement already satisfied: requests-toolbelt>=1.0.0 in /home/ehsan/anaconda3/lib/python3.11/site-packages (from langsmith<1.0.0,>=0.1.125->langchain-community) (1.0.0)\n",
      "Requirement already satisfied: zstandard>=0.23.0 in /home/ehsan/anaconda3/lib/python3.11/site-packages (from langsmith<1.0.0,>=0.1.125->langchain-community) (0.25.0)\n",
      "Requirement already satisfied: anyio in /home/ehsan/anaconda3/lib/python3.11/site-packages (from httpx<1,>=0.23.0->langsmith<1.0.0,>=0.1.125->langchain-community) (3.5.0)\n",
      "Requirement already satisfied: certifi in /home/ehsan/anaconda3/lib/python3.11/site-packages (from httpx<1,>=0.23.0->langsmith<1.0.0,>=0.1.125->langchain-community) (2024.12.14)\n",
      "Requirement already satisfied: httpcore==1.* in /home/ehsan/anaconda3/lib/python3.11/site-packages (from httpx<1,>=0.23.0->langsmith<1.0.0,>=0.1.125->langchain-community) (1.0.9)\n",
      "Requirement already satisfied: idna in /home/ehsan/anaconda3/lib/python3.11/site-packages (from httpx<1,>=0.23.0->langsmith<1.0.0,>=0.1.125->langchain-community) (3.4)\n",
      "Requirement already satisfied: h11>=0.16 in /home/ehsan/anaconda3/lib/python3.11/site-packages (from httpcore==1.*->httpx<1,>=0.23.0->langsmith<1.0.0,>=0.1.125->langchain-community) (0.16.0)\n",
      "Requirement already satisfied: annotated-types>=0.6.0 in /home/ehsan/anaconda3/lib/python3.11/site-packages (from pydantic<3.0.0,>=2.7.4->langchain<2.0.0,>=0.3.27->langchain-community) (0.7.0)\n",
      "Requirement already satisfied: pydantic-core==2.33.2 in /home/ehsan/anaconda3/lib/python3.11/site-packages (from pydantic<3.0.0,>=2.7.4->langchain<2.0.0,>=0.3.27->langchain-community) (2.33.2)\n",
      "Requirement already satisfied: typing-inspection>=0.4.0 in /home/ehsan/anaconda3/lib/python3.11/site-packages (from pydantic<3.0.0,>=2.7.4->langchain<2.0.0,>=0.3.27->langchain-community) (0.4.1)\n",
      "Requirement already satisfied: python-dotenv>=0.21.0 in /home/ehsan/anaconda3/lib/python3.11/site-packages (from pydantic-settings<3.0.0,>=2.10.1->langchain-community) (1.2.1)\n",
      "Requirement already satisfied: urllib3<3,>=1.21.1 in /home/ehsan/anaconda3/lib/python3.11/site-packages (from requests<3.0.0,>=2.32.5->langchain-community) (1.26.16)\n",
      "Requirement already satisfied: greenlet!=0.4.17 in /home/ehsan/anaconda3/lib/python3.11/site-packages (from SQLAlchemy<3.0.0,>=1.4.0->langchain-community) (2.0.1)\n",
      "Requirement already satisfied: mypy-extensions>=0.3.0 in /home/ehsan/anaconda3/lib/python3.11/site-packages (from typing-inspect<1,>=0.4.0->dataclasses-json<0.7.0,>=0.6.7->langchain-community) (0.4.3)\n",
      "INFO: pip is looking at multiple versions of langchain-openai to determine which version is compatible with other requirements. This could take a while.\n",
      "Collecting langchain-openai\n",
      "  Using cached langchain_openai-1.0.1-py3-none-any.whl.metadata (1.8 kB)\n",
      "  Downloading langchain_openai-1.0.0-py3-none-any.whl.metadata (1.8 kB)\n",
      "  Downloading langchain_openai-0.3.35-py3-none-any.whl.metadata (2.4 kB)\n",
      "Requirement already satisfied: openai<3.0.0,>=1.104.2 in /home/ehsan/anaconda3/lib/python3.11/site-packages (from langchain-openai) (2.6.1)\n",
      "Requirement already satisfied: tiktoken<1.0.0,>=0.7.0 in /home/ehsan/anaconda3/lib/python3.11/site-packages (from langchain-openai) (0.12.0)\n",
      "Requirement already satisfied: distro<2,>=1.7.0 in /home/ehsan/anaconda3/lib/python3.11/site-packages (from openai<3.0.0,>=1.104.2->langchain-openai) (1.9.0)\n",
      "Requirement already satisfied: jiter<1,>=0.10.0 in /home/ehsan/anaconda3/lib/python3.11/site-packages (from openai<3.0.0,>=1.104.2->langchain-openai) (0.11.1)\n",
      "Requirement already satisfied: sniffio in /home/ehsan/anaconda3/lib/python3.11/site-packages (from openai<3.0.0,>=1.104.2->langchain-openai) (1.2.0)\n",
      "Requirement already satisfied: tqdm>4 in /home/ehsan/anaconda3/lib/python3.11/site-packages (from openai<3.0.0,>=1.104.2->langchain-openai) (4.65.0)\n",
      "Requirement already satisfied: regex>=2022.1.18 in /home/ehsan/anaconda3/lib/python3.11/site-packages (from tiktoken<1.0.0,>=0.7.0->langchain-openai) (2022.7.9)\n",
      "Requirement already satisfied: pytz in /home/ehsan/anaconda3/lib/python3.11/site-packages (from neo4j) (2022.7)\n",
      "Downloading langchain_experimental-0.3.4-py3-none-any.whl (209 kB)\n",
      "Downloading langchain_community-0.3.31-py3-none-any.whl (2.5 MB)\n",
      "\u001b[2K   \u001b[38;2;114;156;31m━━━━━━━━━━━━━━━━━━━━━━━━━━━━━━━━━━━━━━━━\u001b[0m \u001b[32m2.5/2.5 MB\u001b[0m \u001b[31m1.1 MB/s\u001b[0m  \u001b[33m0:00:02\u001b[0m1.0 MB/s\u001b[0m eta \u001b[36m0:00:01\u001b[0m:01\u001b[0m0m\n",
      "\u001b[?25hDownloading langchain-0.3.27-py3-none-any.whl (1.0 MB)\n",
      "\u001b[2K   \u001b[38;2;114;156;31m━━━━━━━━━━━━━━━━━━━━━━━━━━━━━━━━━━━━━━━━\u001b[0m \u001b[32m1.0/1.0 MB\u001b[0m \u001b[31m371.8 kB/s\u001b[0m  \u001b[33m0:00:02\u001b[0m\u001b[31m611.3 kB/s\u001b[0m eta \u001b[36m0:00:01\u001b[0m\n",
      "\u001b[?25hDownloading langchain_core-0.3.79-py3-none-any.whl (449 kB)\n",
      "Downloading langchain_text_splitters-0.3.11-py3-none-any.whl (33 kB)\n",
      "Downloading langchain_openai-0.3.35-py3-none-any.whl (75 kB)\n",
      "Installing collected packages: langchain-core, langchain-text-splitters, langchain-openai, langchain, langchain-community, langchain-experimental\n",
      "\u001b[2K  Attempting uninstall: langchain-core\n",
      "\u001b[2K    Found existing installation: langchain-core 1.0.1\n",
      "\u001b[2K    Uninstalling langchain-core-1.0.1:\n",
      "\u001b[2K      Successfully uninstalled langchain-core-1.0.1\n",
      "\u001b[2K  Attempting uninstall: langchain-text-splitters━━━━━━\u001b[0m \u001b[32m0/6\u001b[0m [langchain-core]\n",
      "\u001b[2K    Found existing installation: langchain-text-splitters 1.0.07m━━━━━━━━━━━━━━━━━━━━━━━━━━━━━━━━━\u001b[0m \u001b[32m1/6\u001b[0m [langchain-text-splitters]\n",
      "\u001b[2K    Uninstalling langchain-text-splitters-1.0.0:0m\u001b[38;5;237m━━━━━━━━━━━━━━━━━━━━━━━━━━━━━━━━━\u001b[0m \u001b[32m1/6\u001b[0m [langchain-text-splitters]\n",
      "\u001b[2K      Successfully uninstalled langchain-text-splitters-1.0.0━━━━━━━━━━━━━━━━━━━━━━━━━━━━━━━━━\u001b[0m \u001b[32m1/6\u001b[0m [langchain-text-splitters]\n",
      "\u001b[2K  Attempting uninstall: langchain-openai;114m╸\u001b[0m\u001b[38;5;237m━━━━━━━━━━━━━━━━━━━━━━━━━━━━━━━━━\u001b[0m \u001b[32m1/6\u001b[0m [langchain-text-splitters]\n",
      "\u001b[2K    Found existing installation: langchain-openai 1.0.15;237m━━━━━━━━━━━━━━━━━━━━━━━━━━━━━━━━━\u001b[0m \u001b[32m1/6\u001b[0m [langchain-text-splitters]\n",
      "\u001b[2K    Uninstalling langchain-openai-1.0.1:;114m╸\u001b[0m\u001b[38;5;237m━━━━━━━━━━━━━━━━━━━━━━━━━━━━━━━━━\u001b[0m \u001b[32m1/6\u001b[0m [langchain-text-splitters]\n",
      "\u001b[2K      Successfully uninstalled langchain-openai-1.0.18;5;237m━━━━━━━━━━━━━━━━━━━━━━━━━━━━━━━━━\u001b[0m \u001b[32m1/6\u001b[0m [langchain-text-splitters]\n",
      "\u001b[2K   \u001b[38;2;114;156;31m━━━━━━━━━━━━━━━━━━━━━━━━━━━━━━━━━━━━━━━━\u001b[0m \u001b[32m6/6\u001b[0m [langchain-experimental]6\u001b[0m [langchain-experimental]ity]]\n",
      "\u001b[1A\u001b[2K\u001b[31mERROR: pip's dependency resolver does not currently take into account all the packages that are installed. This behaviour is the source of the following dependency conflicts.\n",
      "langchain-classic 1.0.0 requires langchain-core<2.0.0,>=1.0.0, but you have langchain-core 0.3.79 which is incompatible.\n",
      "langchain-classic 1.0.0 requires langchain-text-splitters<2.0.0,>=1.0.0, but you have langchain-text-splitters 0.3.11 which is incompatible.\u001b[0m\u001b[31m\n",
      "\u001b[0mSuccessfully installed langchain-0.3.27 langchain-community-0.3.31 langchain-core-0.3.79 langchain-experimental-0.3.4 langchain-openai-0.3.35 langchain-text-splitters-0.3.11\n"
     ]
    }
   ],
   "source": [
    "!pip uninstall -y langchain langchain-experimental langchain-community\n",
    "!pip install --upgrade git+https://github.com/langchain-ai/langchain.git@main\n",
    "!pip install --upgrade langchain-experimental langchain-community langchain-openai neo4j\n"
   ]
  },
  {
   "cell_type": "code",
   "execution_count": 10,
   "id": "e9eda590",
   "metadata": {},
   "outputs": [],
   "source": [
    "from langchain_community.graphs import Neo4jGraph\n",
    "# from langchain_experimental.graph_transformers import LLMGraphTransformer\n",
    "# from langchain_openai import ChatOpenAI\n",
    "# from langchain_core import documents\n"
   ]
  },
  {
   "cell_type": "code",
   "execution_count": null,
   "id": "9a82722d",
   "metadata": {},
   "outputs": [],
   "source": [
    "from langchain_experimental.graph_transformers import LLMGraphTransformer\n"
   ]
  },
  {
   "cell_type": "code",
   "execution_count": 12,
   "id": "e1c13e90",
   "metadata": {},
   "outputs": [],
   "source": [
    "from langchain_openai import ChatOpenAI\n"
   ]
  },
  {
   "cell_type": "code",
   "execution_count": 13,
   "id": "86d17ab7",
   "metadata": {},
   "outputs": [],
   "source": [
    "from langchain_core import documents\n"
   ]
  },
  {
   "cell_type": "code",
   "execution_count": 14,
   "id": "336ebb14",
   "metadata": {},
   "outputs": [],
   "source": [
    "import os"
   ]
  },
  {
   "cell_type": "code",
   "execution_count": 20,
   "id": "e52da1ef",
   "metadata": {},
   "outputs": [],
   "source": [
    "import os\n",
    "\n",
    "os.environ[\"OPENAI_API_BASE\"] = \"https://api.openrouter.ai/v1\"\n",
    "os.environ[\"OPENAI_API_KEY\"] = \"your_new_openrouter_api_key\"\n",
    "\n",
    "from langchain_openai import ChatOpenAI\n",
    "\n",
    "llm = ChatOpenAI(model=\"google/gemma-3-27b-it:free\", temperature=0, verbose=False)\n"
   ]
  },
  {
   "cell_type": "code",
   "execution_count": 21,
   "id": "77a7af94",
   "metadata": {},
   "outputs": [],
   "source": [
    "llm_transprmer = LLMGraphTransformer(llm=llm)"
   ]
  },
  {
   "cell_type": "code",
   "execution_count": null,
   "id": "e2085892",
   "metadata": {},
   "outputs": [],
   "source": [
    "graph = Neo4jGraph(\n",
    "    uri=\"bolt://localhost:7687\",\n",
    "    username=\"neo4j\",\n",
    "    password=\"your_password\",\n",
    ")"
   ]
  }
 ],
 "metadata": {
  "kernelspec": {
   "display_name": "base",
   "language": "python",
   "name": "python3"
  },
  "language_info": {
   "codemirror_mode": {
    "name": "ipython",
    "version": 3
   },
   "file_extension": ".py",
   "mimetype": "text/x-python",
   "name": "python",
   "nbconvert_exporter": "python",
   "pygments_lexer": "ipython3",
   "version": "3.11.3"
  }
 },
 "nbformat": 4,
 "nbformat_minor": 5
}
